{
 "cells": [
  {
   "cell_type": "markdown",
   "metadata": {},
   "source": [
    "# Titanic: Machine Learning from Disaster"
   ]
  },
  {
   "cell_type": "markdown",
   "metadata": {},
   "source": [
    "### Executive Summary\n",
    "In this project, the dataset we use is the famous Titanic dataset on Kaggle (https://www.kaggle.com/c/titanic). We will run 10 common Machine Learning Algorithms to predict the survival rate of the passengers. The objective of this project is to increase the accuracy of the prediction by processing the dataset using feature engineering and to discover the the most well-proformed algorithm among the 10 machine learning methods. Our first step is to use exploratory data analysis (EDA) to look at the dataset closely to make sure we understand the dataset fully and then we can do the further cleaning and feature engineering to help the dataset fits our machine learning models well. In our last step, we found that the decision tree classifier returns the greatest value."
   ]
  },
  {
   "cell_type": "markdown",
   "metadata": {},
   "source": [
    "### Variable Description\n",
    "<ul>\n",
    "<li><b>PassengerId</b>: Passenger ID\n",
    "<li><b>Survived</b>: Survival rate (0 = No, 1 = Yes)\n",
    "<li><b>Pclass</b>: Ticket class (1 = First class, 2 = Second class, 3 = Third class)\n",
    "<li><b>Name</b>: Name of the passenger\n",
    "<li><b>Sex</b>: Sex of the passenger\n",
    "<li><b>Age</b>: Age in years\n",
    "<li><b>SibSp</b>: Number of siblings or spouses on board\n",
    "<li><b>Parch</b>: Number of parents or children on board\n",
    "<li><b>Ticket</b>: Ticket number\n",
    "<li><b>Fare</b>: Passenger fare\n",
    "<li><b>Cabin</b>: Cabin number\n",
    "<li><b>Embarked</b>: Port of embarkation (C = Cherbourg, Q = Queenstown, S = Southampton)"
   ]
  },
  {
   "cell_type": "markdown",
   "metadata": {},
   "source": [
    "### Exploratory Data Analysis (EDA)\n",
    "We believe understanding the dataset first before we make any changes of the dataset is a very important step. In this section, we found that the passengers in the 1st class have the higher survival rate as well as the female passengers, so we can reasonably assume that the evacuation started from the 1st class and the priority was given to the female passengers. Before EDA, we were assuming that every class might embark from a certain entrance, but after EDA, we found that the passengers could embark the ship from the entrance they prefered."
   ]
  },
  {
   "cell_type": "code",
   "execution_count": 26,
   "metadata": {
    "collapsed": false,
    "pycharm": {
     "is_executing": false
    }
   },
   "outputs": [
    {
     "name": "stdout",
     "text": [
      "Populating the interactive namespace from numpy and matplotlib\n"
     ],
     "output_type": "stream"
    },
    {
     "name": "stderr",
     "text": [
      "/home/anugunj/PycharmProjects/Titanic-ML/venv/lib/python3.6/site-packages/IPython/core/magics/pylab.py:160: UserWarning: pylab import has clobbered these variables: ['clf']\n`%matplotlib` prevents importing * from pylab and numpy\n  \"\\n`%matplotlib` prevents importing * from pylab and numpy\"\n"
     ],
     "output_type": "stream"
    }
   ],
   "source": [
    "import pandas as pd\n",
    "import matplotlib.pyplot as plt\n",
    "import seaborn as sns\n",
    "%pylab inline\n",
    "from sklearn.model_selection import train_test_split, cross_val_score\n",
    "from sklearn.metrics import confusion_matrix, precision_score ,auc, roc_curve\n",
    "from sklearn import svm, tree, linear_model, neighbors, naive_bayes, ensemble, discriminant_analysis, neural_network\n",
    "import xgboost as xgb"
   ]
  },
  {
   "cell_type": "code",
   "execution_count": 27,
   "metadata": {
    "collapsed": false,
    "pycharm": {
     "is_executing": false
    }
   },
   "outputs": [],
   "source": [
    "df = pd.read_csv('train.csv')"
   ]
  },
  {
   "cell_type": "code",
   "execution_count": 28,
   "metadata": {
    "collapsed": false,
    "pycharm": {
     "is_executing": false
    }
   },
   "outputs": [
    {
     "name": "stdout",
     "text": [
      "<class 'pandas.core.frame.DataFrame'>\nRangeIndex: 891 entries, 0 to 890\nData columns (total 12 columns):\nPassengerId    891 non-null int64\nSurvived       891 non-null int64\nPclass         891 non-null int64\nName           891 non-null object\nSex            891 non-null object\nAge            714 non-null float64\nSibSp          891 non-null int64\nParch          891 non-null int64\nTicket         891 non-null object\nFare           891 non-null float64\nCabin          204 non-null object\nEmbarked       889 non-null object\ndtypes: float64(2), int64(5), object(5)\nmemory usage: 83.7+ KB\n"
     ],
     "output_type": "stream"
    },
    {
     "data": {
      "text/plain": "       PassengerId    Survived      Pclass         Age       SibSp  \\\ncount   891.000000  891.000000  891.000000  714.000000  891.000000   \nmean    446.000000    0.383838    2.308642   29.699118    0.523008   \nstd     257.353842    0.486592    0.836071   14.526497    1.102743   \nmin       1.000000    0.000000    1.000000    0.420000    0.000000   \n25%     223.500000    0.000000    2.000000   20.125000    0.000000   \n50%     446.000000    0.000000    3.000000   28.000000    0.000000   \n75%     668.500000    1.000000    3.000000   38.000000    1.000000   \nmax     891.000000    1.000000    3.000000   80.000000    8.000000   \n\n            Parch        Fare  \ncount  891.000000  891.000000  \nmean     0.381594   32.204208  \nstd      0.806057   49.693429  \nmin      0.000000    0.000000  \n25%      0.000000    7.910400  \n50%      0.000000   14.454200  \n75%      0.000000   31.000000  \nmax      6.000000  512.329200  ",
      "text/html": "<div>\n<style scoped>\n    .dataframe tbody tr th:only-of-type {\n        vertical-align: middle;\n    }\n\n    .dataframe tbody tr th {\n        vertical-align: top;\n    }\n\n    .dataframe thead th {\n        text-align: right;\n    }\n</style>\n<table border=\"1\" class=\"dataframe\">\n  <thead>\n    <tr style=\"text-align: right;\">\n      <th></th>\n      <th>PassengerId</th>\n      <th>Survived</th>\n      <th>Pclass</th>\n      <th>Age</th>\n      <th>SibSp</th>\n      <th>Parch</th>\n      <th>Fare</th>\n    </tr>\n  </thead>\n  <tbody>\n    <tr>\n      <td>count</td>\n      <td>891.000000</td>\n      <td>891.000000</td>\n      <td>891.000000</td>\n      <td>714.000000</td>\n      <td>891.000000</td>\n      <td>891.000000</td>\n      <td>891.000000</td>\n    </tr>\n    <tr>\n      <td>mean</td>\n      <td>446.000000</td>\n      <td>0.383838</td>\n      <td>2.308642</td>\n      <td>29.699118</td>\n      <td>0.523008</td>\n      <td>0.381594</td>\n      <td>32.204208</td>\n    </tr>\n    <tr>\n      <td>std</td>\n      <td>257.353842</td>\n      <td>0.486592</td>\n      <td>0.836071</td>\n      <td>14.526497</td>\n      <td>1.102743</td>\n      <td>0.806057</td>\n      <td>49.693429</td>\n    </tr>\n    <tr>\n      <td>min</td>\n      <td>1.000000</td>\n      <td>0.000000</td>\n      <td>1.000000</td>\n      <td>0.420000</td>\n      <td>0.000000</td>\n      <td>0.000000</td>\n      <td>0.000000</td>\n    </tr>\n    <tr>\n      <td>25%</td>\n      <td>223.500000</td>\n      <td>0.000000</td>\n      <td>2.000000</td>\n      <td>20.125000</td>\n      <td>0.000000</td>\n      <td>0.000000</td>\n      <td>7.910400</td>\n    </tr>\n    <tr>\n      <td>50%</td>\n      <td>446.000000</td>\n      <td>0.000000</td>\n      <td>3.000000</td>\n      <td>28.000000</td>\n      <td>0.000000</td>\n      <td>0.000000</td>\n      <td>14.454200</td>\n    </tr>\n    <tr>\n      <td>75%</td>\n      <td>668.500000</td>\n      <td>1.000000</td>\n      <td>3.000000</td>\n      <td>38.000000</td>\n      <td>1.000000</td>\n      <td>0.000000</td>\n      <td>31.000000</td>\n    </tr>\n    <tr>\n      <td>max</td>\n      <td>891.000000</td>\n      <td>1.000000</td>\n      <td>3.000000</td>\n      <td>80.000000</td>\n      <td>8.000000</td>\n      <td>6.000000</td>\n      <td>512.329200</td>\n    </tr>\n  </tbody>\n</table>\n</div>"
     },
     "metadata": {},
     "output_type": "execute_result",
     "execution_count": 28
    }
   ],
   "source": [
    "df.info()\n",
    "df.describe()"
   ]
  },
  {
   "cell_type": "code",
   "execution_count": 29,
   "metadata": {
    "collapsed": false,
    "pycharm": {
     "is_executing": false
    }
   },
   "outputs": [
    {
     "data": {
      "text/plain": "   PassengerId  Survived  Pclass  \\\n0            1         0       3   \n1            2         1       1   \n2            3         1       3   \n3            4         1       1   \n4            5         0       3   \n\n                                                Name     Sex   Age  SibSp  \\\n0                            Braund, Mr. Owen Harris    male  22.0      1   \n1  Cumings, Mrs. John Bradley (Florence Briggs Th...  female  38.0      1   \n2                             Heikkinen, Miss. Laina  female  26.0      0   \n3       Futrelle, Mrs. Jacques Heath (Lily May Peel)  female  35.0      1   \n4                           Allen, Mr. William Henry    male  35.0      0   \n\n   Parch            Ticket     Fare Cabin Embarked  \n0      0         A/5 21171   7.2500   NaN        S  \n1      0          PC 17599  71.2833   C85        C  \n2      0  STON/O2. 3101282   7.9250   NaN        S  \n3      0            113803  53.1000  C123        S  \n4      0            373450   8.0500   NaN        S  ",
      "text/html": "<div>\n<style scoped>\n    .dataframe tbody tr th:only-of-type {\n        vertical-align: middle;\n    }\n\n    .dataframe tbody tr th {\n        vertical-align: top;\n    }\n\n    .dataframe thead th {\n        text-align: right;\n    }\n</style>\n<table border=\"1\" class=\"dataframe\">\n  <thead>\n    <tr style=\"text-align: right;\">\n      <th></th>\n      <th>PassengerId</th>\n      <th>Survived</th>\n      <th>Pclass</th>\n      <th>Name</th>\n      <th>Sex</th>\n      <th>Age</th>\n      <th>SibSp</th>\n      <th>Parch</th>\n      <th>Ticket</th>\n      <th>Fare</th>\n      <th>Cabin</th>\n      <th>Embarked</th>\n    </tr>\n  </thead>\n  <tbody>\n    <tr>\n      <td>0</td>\n      <td>1</td>\n      <td>0</td>\n      <td>3</td>\n      <td>Braund, Mr. Owen Harris</td>\n      <td>male</td>\n      <td>22.0</td>\n      <td>1</td>\n      <td>0</td>\n      <td>A/5 21171</td>\n      <td>7.2500</td>\n      <td>NaN</td>\n      <td>S</td>\n    </tr>\n    <tr>\n      <td>1</td>\n      <td>2</td>\n      <td>1</td>\n      <td>1</td>\n      <td>Cumings, Mrs. John Bradley (Florence Briggs Th...</td>\n      <td>female</td>\n      <td>38.0</td>\n      <td>1</td>\n      <td>0</td>\n      <td>PC 17599</td>\n      <td>71.2833</td>\n      <td>C85</td>\n      <td>C</td>\n    </tr>\n    <tr>\n      <td>2</td>\n      <td>3</td>\n      <td>1</td>\n      <td>3</td>\n      <td>Heikkinen, Miss. Laina</td>\n      <td>female</td>\n      <td>26.0</td>\n      <td>0</td>\n      <td>0</td>\n      <td>STON/O2. 3101282</td>\n      <td>7.9250</td>\n      <td>NaN</td>\n      <td>S</td>\n    </tr>\n    <tr>\n      <td>3</td>\n      <td>4</td>\n      <td>1</td>\n      <td>1</td>\n      <td>Futrelle, Mrs. Jacques Heath (Lily May Peel)</td>\n      <td>female</td>\n      <td>35.0</td>\n      <td>1</td>\n      <td>0</td>\n      <td>113803</td>\n      <td>53.1000</td>\n      <td>C123</td>\n      <td>S</td>\n    </tr>\n    <tr>\n      <td>4</td>\n      <td>5</td>\n      <td>0</td>\n      <td>3</td>\n      <td>Allen, Mr. William Henry</td>\n      <td>male</td>\n      <td>35.0</td>\n      <td>0</td>\n      <td>0</td>\n      <td>373450</td>\n      <td>8.0500</td>\n      <td>NaN</td>\n      <td>S</td>\n    </tr>\n  </tbody>\n</table>\n</div>"
     },
     "metadata": {},
     "output_type": "execute_result",
     "execution_count": 29
    }
   ],
   "source": [
    "df.head()"
   ]
  },
  {
   "cell_type": "code",
   "execution_count": 30,
   "metadata": {
    "collapsed": false,
    "pycharm": {
     "is_executing": false
    }
   },
   "outputs": [
    {
     "data": {
      "text/plain": "        Survived\nPclass          \n1       0.629630\n2       0.472826\n3       0.242363",
      "text/html": "<div>\n<style scoped>\n    .dataframe tbody tr th:only-of-type {\n        vertical-align: middle;\n    }\n\n    .dataframe tbody tr th {\n        vertical-align: top;\n    }\n\n    .dataframe thead th {\n        text-align: right;\n    }\n</style>\n<table border=\"1\" class=\"dataframe\">\n  <thead>\n    <tr style=\"text-align: right;\">\n      <th></th>\n      <th>Survived</th>\n    </tr>\n    <tr>\n      <th>Pclass</th>\n      <th></th>\n    </tr>\n  </thead>\n  <tbody>\n    <tr>\n      <td>1</td>\n      <td>0.629630</td>\n    </tr>\n    <tr>\n      <td>2</td>\n      <td>0.472826</td>\n    </tr>\n    <tr>\n      <td>3</td>\n      <td>0.242363</td>\n    </tr>\n  </tbody>\n</table>\n</div>"
     },
     "metadata": {},
     "output_type": "execute_result",
     "execution_count": 30
    }
   ],
   "source": [
    "df[['Pclass', 'Survived']].groupby(by='Pclass').mean()"
   ]
  },
  {
   "cell_type": "code",
   "execution_count": 31,
   "metadata": {
    "collapsed": false,
    "pycharm": {
     "is_executing": false
    }
   },
   "outputs": [
    {
     "name": "stderr",
     "text": [
      "/home/anugunj/PycharmProjects/Titanic-ML/venv/lib/python3.6/site-packages/seaborn/categorical.py:3666: UserWarning: The `factorplot` function has been renamed to `catplot`. The original name will be removed in a future release. Please update your code. Note that the default `kind` in `factorplot` (`'point'`) has changed `'strip'` in `catplot`.\n  warnings.warn(msg)\n"
     ],
     "output_type": "stream"
    },
    {
     "data": {
      "text/plain": "Text(0.5, 1, 'Survival Rate by Class')"
     },
     "metadata": {},
     "output_type": "execute_result",
     "execution_count": 31
    },
    {
     "data": {
      "text/plain": "<Figure size 720x360 with 1 Axes>",
      "image/png": "[encoded data removed]"
     },
     "metadata": {
      "needs_background": "light"
     },
     "output_type": "display_data"
    }
   ],
   "source": [
    "sns.factorplot(y='Survived', x='Pclass', data=df, kind='bar', aspect=2)\n",
    "plt.title('Survival Rate by Class', fontsize=20)"
   ]
  },
  {
   "cell_type": "code",
   "execution_count": 32,
   "metadata": {
    "collapsed": false,
    "pycharm": {
     "is_executing": false
    }
   },
   "outputs": [
    {
     "data": {
      "text/plain": "        Survived\nSex             \nfemale  0.742038\nmale    0.188908",
      "text/html": "<div>\n<style scoped>\n    .dataframe tbody tr th:only-of-type {\n        vertical-align: middle;\n    }\n\n    .dataframe tbody tr th {\n        vertical-align: top;\n    }\n\n    .dataframe thead th {\n        text-align: right;\n    }\n</style>\n<table border=\"1\" class=\"dataframe\">\n  <thead>\n    <tr style=\"text-align: right;\">\n      <th></th>\n      <th>Survived</th>\n    </tr>\n    <tr>\n      <th>Sex</th>\n      <th></th>\n    </tr>\n  </thead>\n  <tbody>\n    <tr>\n      <td>female</td>\n      <td>0.742038</td>\n    </tr>\n    <tr>\n      <td>male</td>\n      <td>0.188908</td>\n    </tr>\n  </tbody>\n</table>\n</div>"
     },
     "metadata": {},
     "output_type": "execute_result",
     "execution_count": 32
    }
   ],
   "source": [
    "df[['Sex', 'Survived']].groupby(by='Sex').mean()"
   ]
  },
  {
   "cell_type": "code",
   "execution_count": 33,
   "metadata": {
    "collapsed": false,
    "pycharm": {
     "is_executing": false
    }
   },
   "outputs": [
    {
     "data": {
      "text/plain": "Text(0.5, 1, 'Survival Rate by Sex')"
     },
     "metadata": {},
     "output_type": "execute_result",
     "execution_count": 33
    },
    {
     "data": {
      "text/plain": "<Figure size 720x360 with 1 Axes>",
      "image/png": "[encoded data removed]"
     },
     "metadata": {
      "needs_background": "light"
     },
     "output_type": "display_data"
    }
   ],
   "source": [
    "sns.factorplot(y='Survived', x='Sex', data=df, kind='bar', aspect=2)\n",
    "plt.title('Survival Rate by Sex', fontsize=20)"
   ]
  },
  {
   "cell_type": "code",
   "execution_count": 34,
   "metadata": {
    "collapsed": false,
    "scrolled": true,
    "pycharm": {
     "is_executing": false
    }
   },
   "outputs": [
    {
     "data": {
      "text/plain": "          Survived\nEmbarked          \nC         0.553571\nQ         0.389610\nS         0.336957",
      "text/html": "<div>\n<style scoped>\n    .dataframe tbody tr th:only-of-type {\n        vertical-align: middle;\n    }\n\n    .dataframe tbody tr th {\n        vertical-align: top;\n    }\n\n    .dataframe thead th {\n        text-align: right;\n    }\n</style>\n<table border=\"1\" class=\"dataframe\">\n  <thead>\n    <tr style=\"text-align: right;\">\n      <th></th>\n      <th>Survived</th>\n    </tr>\n    <tr>\n      <th>Embarked</th>\n      <th></th>\n    </tr>\n  </thead>\n  <tbody>\n    <tr>\n      <td>C</td>\n      <td>0.553571</td>\n    </tr>\n    <tr>\n      <td>Q</td>\n      <td>0.389610</td>\n    </tr>\n    <tr>\n      <td>S</td>\n      <td>0.336957</td>\n    </tr>\n  </tbody>\n</table>\n</div>"
     },
     "metadata": {},
     "output_type": "execute_result",
     "execution_count": 34
    }
   ],
   "source": [
    "df[['Embarked', 'Survived']].groupby(by='Embarked').mean()"
   ]
  },
  {
   "cell_type": "code",
   "execution_count": 35,
   "metadata": {
    "collapsed": false,
    "pycharm": {
     "is_executing": false
    }
   },
   "outputs": [
    {
     "data": {
      "text/plain": "Text(0.5, 1, 'Survival Rate by Embarked')"
     },
     "metadata": {},
     "output_type": "execute_result",
     "execution_count": 35
    },
    {
     "data": {
      "text/plain": "<Figure size 720x360 with 1 Axes>",
      "image/png": "[encoded data removed]"
     },
     "metadata": {
      "needs_background": "light"
     },
     "output_type": "display_data"
    }
   ],
   "source": [
    "sns.factorplot(y='Survived', x='Embarked', data=df, kind='bar', aspect=2)\n",
    "plt.title('Survival Rate by Embarked', fontsize=20)"
   ]
  },
  {
   "cell_type": "markdown",
   "metadata": {},
   "source": [
    "### Cleaning\n",
    "In this section, we will drop the variables that we won't include in our model, change the Sex and Embarked variables from categorical to numerical, and fill the NAs in the Age variable with its midean.\n",
    "<ul>\n",
    "<li><b>Drop the PassengerId variable</b>: Since the ID doesn't have specific meaning, it won't help us to improve the accuracy of our model.\n",
    "<li><b>Drop the Name variable</b>: Although the name variable contains the title of each person, we believe the information has already been covered by the Pclass and the Fare variables.\n",
    "<li><b>Drop the Ticket variable</b>: Similar to the name variable, we believe the information has already been covered by the the Pclass and the Fare variables.\n",
    "<li><b>Drop the cabin variable</b>: This variable only has 204 non-null objects, which are greater than the number of 1st class, so we assume that some of the information in this variable is missing."
   ]
  },
  {
   "cell_type": "code",
   "execution_count": 36,
   "metadata": {
    "collapsed": false,
    "pycharm": {
     "is_executing": false
    }
   },
   "outputs": [],
   "source": [
    "df = df.drop(['PassengerId', 'Name', 'Ticket', 'Cabin'], axis=1)"
   ]
  },
  {
   "cell_type": "code",
   "execution_count": 37,
   "metadata": {
    "collapsed": true,
    "pycharm": {
     "is_executing": false
    }
   },
   "outputs": [],
   "source": [
    "df['Age'] = df.Age.fillna(df.Age.median())"
   ]
  },
  {
   "cell_type": "code",
   "execution_count": 38,
   "metadata": {
    "collapsed": true,
    "pycharm": {
     "is_executing": false
    }
   },
   "outputs": [],
   "source": [
    "df['Sex'] = pd.get_dummies(df['Sex'], drop_first=True).astype('int')"
   ]
  },
  {
   "cell_type": "code",
   "execution_count": 39,
   "metadata": {
    "collapsed": false,
    "pycharm": {
     "is_executing": false
    }
   },
   "outputs": [],
   "source": [
    "Embarked_mapping = {'S': 0, 'C': 1, 'Q': 2}\n",
    "df['Embarked'] = df['Embarked'].fillna(df.Embarked.mode()[0]).map(Embarked_mapping)"
   ]
  },
  {
   "cell_type": "markdown",
   "metadata": {},
   "source": [
    "### Feature Engineering\n",
    "In this section, we will transform some variables to help improve the accuracy of our model. By performing feature engineering, we transform the dat into features that better represent the underlying problem to the predictive models.\n",
    "<ul>\n",
    "<li><b>The Age variable</b>: We separate this variable into 5 bins. \n",
    "<li><b>The Fare variable</b>: We separate this variable into 4 bins.\n",
    "<li><b>The SibSp and Parch variables</b>: We combine the numbers of these two into one variable named Family."
   ]
  },
  {
   "cell_type": "code",
   "execution_count": 40,
   "metadata": {
    "collapsed": false,
    "pycharm": {
     "is_executing": false
    }
   },
   "outputs": [
    {
     "data": {
      "text/plain": "                  Survived\nAgeBin                    \n(0.34, 16.336]    0.550000\n(16.336, 32.252]  0.344168\n(32.252, 48.168]  0.404255\n(48.168, 64.084]  0.434783\n(64.084, 80.0]    0.090909",
      "text/html": "<div>\n<style scoped>\n    .dataframe tbody tr th:only-of-type {\n        vertical-align: middle;\n    }\n\n    .dataframe tbody tr th {\n        vertical-align: top;\n    }\n\n    .dataframe thead th {\n        text-align: right;\n    }\n</style>\n<table border=\"1\" class=\"dataframe\">\n  <thead>\n    <tr style=\"text-align: right;\">\n      <th></th>\n      <th>Survived</th>\n    </tr>\n    <tr>\n      <th>AgeBin</th>\n      <th></th>\n    </tr>\n  </thead>\n  <tbody>\n    <tr>\n      <td>(0.34, 16.336]</td>\n      <td>0.550000</td>\n    </tr>\n    <tr>\n      <td>(16.336, 32.252]</td>\n      <td>0.344168</td>\n    </tr>\n    <tr>\n      <td>(32.252, 48.168]</td>\n      <td>0.404255</td>\n    </tr>\n    <tr>\n      <td>(48.168, 64.084]</td>\n      <td>0.434783</td>\n    </tr>\n    <tr>\n      <td>(64.084, 80.0]</td>\n      <td>0.090909</td>\n    </tr>\n  </tbody>\n</table>\n</div>"
     },
     "metadata": {},
     "output_type": "execute_result",
     "execution_count": 40
    }
   ],
   "source": [
    "df['AgeBin'] = pd.cut(df.Age, 5)\n",
    "df[['Survived', 'AgeBin']].groupby(by='AgeBin').mean()"
   ]
  },
  {
   "cell_type": "code",
   "execution_count": 41,
   "metadata": {
    "collapsed": false,
    "scrolled": true,
    "pycharm": {
     "is_executing": false
    }
   },
   "outputs": [],
   "source": [
    "df['Age'] = pd.cut(df.Age, 5, labels=False)\n",
    "df = df.drop('AgeBin', axis=1)"
   ]
  },
  {
   "cell_type": "code",
   "execution_count": 42,
   "metadata": {
    "collapsed": false,
    "pycharm": {
     "is_executing": false
    }
   },
   "outputs": [
    {
     "data": {
      "text/plain": "                    Survived\nFareBin                     \n(-0.512, 128.082]   0.368113\n(128.082, 256.165]  0.724138\n(256.165, 384.247]  0.666667\n(384.247, 512.329]  1.000000",
      "text/html": "<div>\n<style scoped>\n    .dataframe tbody tr th:only-of-type {\n        vertical-align: middle;\n    }\n\n    .dataframe tbody tr th {\n        vertical-align: top;\n    }\n\n    .dataframe thead th {\n        text-align: right;\n    }\n</style>\n<table border=\"1\" class=\"dataframe\">\n  <thead>\n    <tr style=\"text-align: right;\">\n      <th></th>\n      <th>Survived</th>\n    </tr>\n    <tr>\n      <th>FareBin</th>\n      <th></th>\n    </tr>\n  </thead>\n  <tbody>\n    <tr>\n      <td>(-0.512, 128.082]</td>\n      <td>0.368113</td>\n    </tr>\n    <tr>\n      <td>(128.082, 256.165]</td>\n      <td>0.724138</td>\n    </tr>\n    <tr>\n      <td>(256.165, 384.247]</td>\n      <td>0.666667</td>\n    </tr>\n    <tr>\n      <td>(384.247, 512.329]</td>\n      <td>1.000000</td>\n    </tr>\n  </tbody>\n</table>\n</div>"
     },
     "metadata": {},
     "output_type": "execute_result",
     "execution_count": 42
    }
   ],
   "source": [
    "df['FareBin'] = pd.cut(df.Fare, 4)\n",
    "df[['Survived', 'FareBin']].groupby(by='FareBin').mean()"
   ]
  },
  {
   "cell_type": "code",
   "execution_count": 43,
   "metadata": {
    "collapsed": false,
    "pycharm": {
     "is_executing": false
    }
   },
   "outputs": [],
   "source": [
    "df['Fare'] = pd.cut(df.Fare, 4, labels=False)\n",
    "df = df.drop('FareBin', axis=1)"
   ]
  },
  {
   "cell_type": "code",
   "execution_count": 44,
   "metadata": {
    "collapsed": false,
    "pycharm": {
     "is_executing": false
    }
   },
   "outputs": [],
   "source": [
    "df['Family'] = df.SibSp + df.Parch\n",
    "df = df.drop(['SibSp', 'Parch'], axis=1)"
   ]
  },
  {
   "cell_type": "markdown",
   "metadata": {},
   "source": [
    "### Machine Learning Algorithms\n",
    "We will apply 10 machine learning algorithms for classification in this section. The area under the ROC curve will be used to evaluate which algorithm predicts the classes best. The greater the AUC value is, the better the model predicts. Our result shows that the Decision tree classifier returns the greatest value.\n",
    "<ul>\n",
    "<li><b>Algorithms</b>: Logistic regression, k-nearest neighbors, SVM, Naive Bayes, Decision tree, Random forest, Linear discriminant analysis, Quadratic discriminant analysis, Neural network (MLP), Xgboost"
   ]
  },
  {
   "cell_type": "code",
   "execution_count": 45,
   "metadata": {
    "collapsed": true,
    "pycharm": {
     "is_executing": false
    }
   },
   "outputs": [],
   "source": [
    "X = df.drop('Survived', axis=1)\n",
    "Y = df.Survived\n",
    "X_train, X_test, Y_train, Y_test = train_test_split(X, Y, test_size=0.2, random_state=3)"
   ]
  },
  {
   "cell_type": "code",
   "execution_count": 46,
   "metadata": {
    "collapsed": true,
    "pycharm": {
     "is_executing": false
    }
   },
   "outputs": [],
   "source": [
    "MLA = [\n",
    "    linear_model.LogisticRegressionCV(),\n",
    "    neighbors.KNeighborsClassifier(3),\n",
    "    svm.SVC(gamma=2, C=1),\n",
    "    naive_bayes.GaussianNB(),\n",
    "    tree.DecisionTreeClassifier(max_depth=3),\n",
    "    ensemble.RandomForestClassifier(max_depth=3, n_estimators=10, max_features=1),\n",
    "    discriminant_analysis.QuadraticDiscriminantAnalysis(),\n",
    "    discriminant_analysis.LinearDiscriminantAnalysis(),\n",
    "    neural_network.MLPClassifier(alpha=1)\n",
    "]"
   ]
  },
  {
   "cell_type": "code",
   "execution_count": 47,
   "metadata": {
    "collapsed": false,
    "scrolled": true,
    "pycharm": {
     "is_executing": false
    }
   },
   "outputs": [
    {
     "name": "stderr",
     "text": [
      "/home/anugunj/PycharmProjects/Titanic-ML/venv/lib/python3.6/site-packages/sklearn/model_selection/_split.py:1978: FutureWarning: The default value of cv will change from 3 to 5 in version 0.22. Specify it explicitly to silence this warning.\n  warnings.warn(CV_WARNING, FutureWarning)\n",
      "/home/anugunj/PycharmProjects/Titanic-ML/venv/lib/python3.6/site-packages/sklearn/neural_network/multilayer_perceptron.py:566: ConvergenceWarning: Stochastic Optimizer: Maximum iterations (200) reached and the optimization hasn't converged yet.\n  % self.max_iter, ConvergenceWarning)\n"
     ],
     "output_type": "stream"
    },
    {
     "data": {
      "text/plain": "                        MLA Name  Precision       AUC\n8                  MLPClassifier   0.708861  0.794495\n4         DecisionTreeClassifier   0.793103  0.773526\n0           LogisticRegressionCV   0.688312  0.768480\n7     LinearDiscriminantAnalysis   0.693333  0.765924\n2                            SVC   0.738462  0.764875\n3                     GaussianNB   0.710145  0.758257\n6  QuadraticDiscriminantAnalysis   0.701493  0.743971\n1           KNeighborsClassifier   0.626667  0.707274\n5         RandomForestClassifier   0.765957  0.706684",
      "text/html": "<div>\n<style scoped>\n    .dataframe tbody tr th:only-of-type {\n        vertical-align: middle;\n    }\n\n    .dataframe tbody tr th {\n        vertical-align: top;\n    }\n\n    .dataframe thead th {\n        text-align: right;\n    }\n</style>\n<table border=\"1\" class=\"dataframe\">\n  <thead>\n    <tr style=\"text-align: right;\">\n      <th></th>\n      <th>MLA Name</th>\n      <th>Precision</th>\n      <th>AUC</th>\n    </tr>\n  </thead>\n  <tbody>\n    <tr>\n      <td>8</td>\n      <td>MLPClassifier</td>\n      <td>0.708861</td>\n      <td>0.794495</td>\n    </tr>\n    <tr>\n      <td>4</td>\n      <td>DecisionTreeClassifier</td>\n      <td>0.793103</td>\n      <td>0.773526</td>\n    </tr>\n    <tr>\n      <td>0</td>\n      <td>LogisticRegressionCV</td>\n      <td>0.688312</td>\n      <td>0.768480</td>\n    </tr>\n    <tr>\n      <td>7</td>\n      <td>LinearDiscriminantAnalysis</td>\n      <td>0.693333</td>\n      <td>0.765924</td>\n    </tr>\n    <tr>\n      <td>2</td>\n      <td>SVC</td>\n      <td>0.738462</td>\n      <td>0.764875</td>\n    </tr>\n    <tr>\n      <td>3</td>\n      <td>GaussianNB</td>\n      <td>0.710145</td>\n      <td>0.758257</td>\n    </tr>\n    <tr>\n      <td>6</td>\n      <td>QuadraticDiscriminantAnalysis</td>\n      <td>0.701493</td>\n      <td>0.743971</td>\n    </tr>\n    <tr>\n      <td>1</td>\n      <td>KNeighborsClassifier</td>\n      <td>0.626667</td>\n      <td>0.707274</td>\n    </tr>\n    <tr>\n      <td>5</td>\n      <td>RandomForestClassifier</td>\n      <td>0.765957</td>\n      <td>0.706684</td>\n    </tr>\n  </tbody>\n</table>\n</div>"
     },
     "metadata": {},
     "output_type": "execute_result",
     "execution_count": 47
    }
   ],
   "source": [
    "MLA_columns = []\n",
    "MLA_compare = pd.DataFrame(columns = MLA_columns)\n",
    "\n",
    "row_index = 0\n",
    "for alg in MLA:\n",
    "    predicted = alg.fit(X_train, Y_train).predict(X_test)\n",
    "    fp, tp, th = roc_curve(Y_test, predicted)\n",
    "    MLA_name = alg.__class__.__name__\n",
    "    MLA_compare.loc[row_index,'MLA Name'] = MLA_name\n",
    "    MLA_compare.loc[row_index, 'Precision'] = precision_score(Y_test, predicted)\n",
    "    MLA_compare.loc[row_index, 'AUC'] = auc(fp, tp)\n",
    "    \n",
    "    row_index+=1\n",
    "MLA_compare.sort_values(by = ['AUC'], ascending = False, inplace = True)\n",
    "MLA_compare"
   ]
  },
  {
   "cell_type": "code",
   "execution_count": 48,
   "metadata": {
    "collapsed": true,
    "pycharm": {
     "is_executing": false
    }
   },
   "outputs": [
    {
     "name": "stderr",
     "text": [
      "/home/anugunj/PycharmProjects/Titanic-ML/venv/lib/python3.6/site-packages/xgboost/core.py:587: FutureWarning: Series.base is deprecated and will be removed in a future version\n  if getattr(data, 'base', None) is not None and \\\n"
     ],
     "output_type": "stream"
    }
   ],
   "source": [
    "dtrain = xgb.DMatrix(X_train, label=Y_train)\n",
    "dtest = xgb.DMatrix(X_test, label=Y_test)"
   ]
  },
  {
   "cell_type": "code",
   "execution_count": 49,
   "metadata": {
    "collapsed": false,
    "pycharm": {
     "is_executing": false
    }
   },
   "outputs": [
    {
     "name": "stdout",
     "text": [
      "[0]\tvalidation_0-auc:0.501049\n",
      "Will train until validation_0-auc hasn't improved in 20 rounds.\n",
      "[1]\tvalidation_0-auc:0.634535\n",
      "[2]\tvalidation_0-auc:0.705242\n",
      "[3]\tvalidation_0-auc:0.700786\n",
      "[4]\tvalidation_0-auc:0.702818\n",
      "[5]\tvalidation_0-auc:0.698493\n",
      "[6]\tvalidation_0-auc:0.702556\n",
      "[7]\tvalidation_0-auc:0.6981\n",
      "[8]\tvalidation_0-auc:0.697444\n",
      "[9]\tvalidation_0-auc:0.697837\n",
      "[10]\tvalidation_0-auc:0.697051\n",
      "[11]\tvalidation_0-auc:0.698493\n",
      "[12]\tvalidation_0-auc:0.694037\n",
      "[13]\tvalidation_0-auc:0.69194\n",
      "[14]\tvalidation_0-auc:0.686435\n",
      "[15]\tvalidation_0-auc:0.751704\n",
      "[16]\tvalidation_0-auc:0.790105\n",
      "[17]\tvalidation_0-auc:0.789056\n",
      "[18]\tvalidation_0-auc:0.78709\n",
      "[19]\tvalidation_0-auc:0.804653\n",
      "[20]\tvalidation_0-auc:0.802949\n",
      "[21]\tvalidation_0-auc:0.799803\n",
      "[22]\tvalidation_0-auc:0.798493\n",
      "[23]\tvalidation_0-auc:0.795216\n",
      "[24]\tvalidation_0-auc:0.795478\n",
      "[25]\tvalidation_0-auc:0.808454\n",
      "[26]\tvalidation_0-auc:0.817366\n",
      "[27]\tvalidation_0-auc:0.815924\n",
      "[28]\tvalidation_0-auc:0.820904\n",
      "[29]\tvalidation_0-auc:0.819987\n",
      "[30]\tvalidation_0-auc:0.819332\n",
      "[31]\tvalidation_0-auc:0.819201\n",
      "[32]\tvalidation_0-auc:0.819069\n",
      "[33]\tvalidation_0-auc:0.819594\n",
      "[34]\tvalidation_0-auc:0.818283\n",
      "[35]\tvalidation_0-auc:0.817497\n",
      "[36]\tvalidation_0-auc:0.821691\n",
      "[37]\tvalidation_0-auc:0.825098\n",
      "[38]\tvalidation_0-auc:0.82405\n",
      "[39]\tvalidation_0-auc:0.822477\n",
      "[40]\tvalidation_0-auc:0.820642\n",
      "[41]\tvalidation_0-auc:0.821298\n",
      "[42]\tvalidation_0-auc:0.821822\n",
      "[43]\tvalidation_0-auc:0.820773\n",
      "[44]\tvalidation_0-auc:0.821822\n",
      "[45]\tvalidation_0-auc:0.822608\n",
      "[46]\tvalidation_0-auc:0.824705\n",
      "[47]\tvalidation_0-auc:0.824181\n",
      "[48]\tvalidation_0-auc:0.826671\n",
      "[49]\tvalidation_0-auc:0.825885\n",
      "[50]\tvalidation_0-auc:0.82903\n",
      "[51]\tvalidation_0-auc:0.828375\n",
      "[52]\tvalidation_0-auc:0.827457\n",
      "[53]\tvalidation_0-auc:0.827195\n",
      "[54]\tvalidation_0-auc:0.82654\n",
      "[55]\tvalidation_0-auc:0.826278\n",
      "[56]\tvalidation_0-auc:0.827326\n",
      "[57]\tvalidation_0-auc:0.828244\n",
      "[58]\tvalidation_0-auc:0.830996\n",
      "[59]\tvalidation_0-auc:0.830865\n",
      "[60]\tvalidation_0-auc:0.829161\n",
      "[61]\tvalidation_0-auc:0.828637\n",
      "[62]\tvalidation_0-auc:0.828637\n",
      "[63]\tvalidation_0-auc:0.827457\n",
      "[64]\tvalidation_0-auc:0.827064\n",
      "[65]\tvalidation_0-auc:0.827851\n",
      "[66]\tvalidation_0-auc:0.826933\n",
      "[67]\tvalidation_0-auc:0.827064\n",
      "[68]\tvalidation_0-auc:0.828637\n",
      "[69]\tvalidation_0-auc:0.828899\n",
      "[70]\tvalidation_0-auc:0.829161\n",
      "[71]\tvalidation_0-auc:0.829161\n",
      "[72]\tvalidation_0-auc:0.830079\n",
      "[73]\tvalidation_0-auc:0.829948\n",
      "[74]\tvalidation_0-auc:0.829948\n",
      "[75]\tvalidation_0-auc:0.830996\n",
      "[76]\tvalidation_0-auc:0.83021\n",
      "[77]\tvalidation_0-auc:0.830079\n",
      "[78]\tvalidation_0-auc:0.829554\n",
      "Stopping. Best iteration:\n[58]\tvalidation_0-auc:0.830996\n\n"
     ],
     "output_type": "stream"
    },
    {
     "data": {
      "text/plain": "XGBClassifier(base_score=0.5, booster='gbtree', colsample_bylevel=1,\n              colsample_bynode=1, colsample_bytree=0.3, eta=0.1,\n              eval_metric='auc', gamma=0, learning_rate=0.1, max_delta_step=0,\n              max_depth=6, min_child_weight=1, missing=None, n_estimators=500,\n              n_jobs=1, nthread=None, objective='binary:logistic',\n              random_state=0, reg_alpha=0, reg_lambda=1, scale_pos_weight=1,\n              seed=None, silent=1, subsample=1, verbosity=1)"
     },
     "metadata": {},
     "output_type": "execute_result",
     "execution_count": 49
    }
   ],
   "source": [
    "clf = xgb.XGBClassifier(n_estimators=500, objective='binary:logistic', eval_metric='auc', eta=0.1, max_depth=6, subsample=1, colsample_bytree=0.3, silent=1)\n",
    "clf.fit(X_train, Y_train, early_stopping_rounds=20, eval_metric=\"auc\", eval_set=[(X_test, Y_test)])"
   ]
  }
 ],
 "metadata": {
  "kernelspec": {
   "name": "python3",
   "language": "python",
   "display_name": "Python 3"
  },
  "language_info": {
   "codemirror_mode": {
    "name": "ipython",
    "version": 2
   },
   "file_extension": ".py",
   "mimetype": "text/x-python",
   "name": "python",
   "nbconvert_exporter": "python",
   "pygments_lexer": "ipython2",
   "version": "2.7.11"
  }
 },
 "nbformat": 4,
 "nbformat_minor": 0
}